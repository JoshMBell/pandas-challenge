{
 "cells": [
  {
   "cell_type": "code",
   "execution_count": null,
   "metadata": {},
   "outputs": [],
   "source": [
    "import pandas as pd\n",
    "import numpy as np"
   ]
  },
  {
   "cell_type": "code",
   "execution_count": null,
   "metadata": {},
   "outputs": [],
   "source": [
    "school_data_to_load = \"Resources/schools_complete.csv\"\n",
    "student_data_to_load = \"Resources/students_complete.csv\"\n",
    "\n",
    "school_data = pd.read_csv(school_data_to_load)\n",
    "student_data = pd.read_csv(student_data_to_load)\n",
    "\n",
    "school_data_complete = pd.merge(student_data, school_data, how=\"left\", on=[\"school_name\", \"school_name\"])"
   ]
  },
  {
   "cell_type": "code",
   "execution_count": null,
   "metadata": {},
   "outputs": [],
   "source": [
    "school_data_complete"
   ]
  },
  {
   "cell_type": "code",
   "execution_count": null,
   "metadata": {},
   "outputs": [],
   "source": [
    "school_data_stats = school_data_complete.describe()"
   ]
  },
  {
   "cell_type": "code",
   "execution_count": null,
   "metadata": {},
   "outputs": [],
   "source": [
    "def get_passing_stats(df):\n",
    "  num_passing_math = df[df['maths_score'] >= 50].shape[0]\n",
    "  pct_passing_math = num_passing_math / df.shape[0]\n",
    "\n",
    "  num_passing_reading = df[df['reading_score'] >= 50].shape[0]\n",
    "  pct_passing_reading = num_passing_reading / df.shape[0]\n",
    "\n",
    "  num_passing_overall = df[(df['maths_score'] >= 50) & (df['reading_score'] >= 50)].shape[0]\n",
    "  pct_passing_overall = num_passing_overall / df.shape[0]\n",
    "\n",
    "  return [\n",
    "    pct_passing_math,\n",
    "    pct_passing_reading,\n",
    "    pct_passing_overall\n",
    "  ]"
   ]
  },
  {
   "cell_type": "code",
   "execution_count": null,
   "metadata": {},
   "outputs": [],
   "source": [
    "nStudents = school_data_complete[\"Student ID\"].nunique()\n",
    "nSchools = school_data_complete[\"School ID\"].nunique()\n",
    "totalBudget = school_data[\"budget\"].sum()\n",
    "avgReading = school_data_stats.iat[1, 2]\n",
    "avgMaths = school_data_stats.iat[1, 3]\n",
    "\n",
    "stats = get_passing_stats(school_data_complete)\n",
    "pctMathPass, pctReadingPass, pctBothPass = stats[0], stats[1], stats[2]"
   ]
  },
  {
   "cell_type": "code",
   "execution_count": null,
   "metadata": {},
   "outputs": [],
   "source": [
    "lga_summary = {\n",
    "  'Total Schools': nSchools,\n",
    "  'Total Students': nStudents,\n",
    "  'Total Budget': totalBudget,\n",
    "  'Average Maths Score': avgMaths,\n",
    "  'Average Reading Score': avgReading,\n",
    "  '% Passing Maths': pctMathPass,\n",
    "  '% Passing Reading': pctReadingPass,\n",
    "  '% Overall Passing': pctBothPass\n",
    "}\n",
    "area_summary = pd.DataFrame(lga_summary, index=[0])\n",
    "area_summary['% Passing Maths'] = round(area_summary['% Passing Maths']*100, 2)\n",
    "area_summary['% Passing Reading'] = round(area_summary['% Passing Reading']*100, 2)\n",
    "area_summary['% Overall Passing'] = round(area_summary['% Overall Passing']*100, 2)\n",
    "\n",
    "area_summary.round(2)"
   ]
  },
  {
   "cell_type": "code",
   "execution_count": null,
   "metadata": {},
   "outputs": [],
   "source": [
    "grouped_school_complete = school_data_complete.groupby(by = 'School ID')"
   ]
  },
  {
   "cell_type": "code",
   "execution_count": null,
   "metadata": {},
   "outputs": [],
   "source": [
    "school_summary_data = []\n",
    "columns = [\n",
    "  'School Type', \n",
    "  'Total Students', \n",
    "  'Total School Budget', \n",
    "  'Per Student Budget', \n",
    "  'Average Maths Score', \n",
    "  'Average Reading Score', \n",
    "  '% Passing Maths', \n",
    "  '% Passing Reading', \n",
    "  '% Overall Passing'\n",
    "]\n",
    "\n",
    "index = [\n",
    "  'Huang High School',\n",
    "  'Figueroa High School',\n",
    "  'Shelton High School',\n",
    "  'Hernandez High School',\n",
    "  'Griffin High School',\n",
    "  'Wilson High School',\n",
    "  'Cabrera High School',\n",
    "  'Bailey High School',\n",
    "  'Holden High School',\n",
    "  'Pena High School',\n",
    "  'Wright High School',\n",
    "  'Rodriguez High School',\n",
    "  'Johnson High School',\n",
    "  'Ford High School',\n",
    "  'Thomas High School'\n",
    "]\n",
    "\n",
    "for name, group in grouped_school_complete:\n",
    "  school_type = group.iloc[0]['type']\n",
    "  total_students = group.shape[0]\n",
    "  total_budget = group.iloc[0]['budget']\n",
    "  per_student_budget = total_budget / total_students\n",
    "  avg_math_score = group['maths_score'].mean()\n",
    "  avg_reading_score = group['reading_score'].mean()\n",
    "  passing_stats = get_passing_stats(group)\n",
    "  \n",
    "  school_summary_data.append([\n",
    "    school_type,\n",
    "    total_students,\n",
    "    total_budget,\n",
    "    per_student_budget,\n",
    "    avg_math_score,\n",
    "    avg_reading_score,\n",
    "    passing_stats[0],\n",
    "    passing_stats[1],\n",
    "    passing_stats[2]\n",
    "  ])\n",
    "\n",
    "per_school_summary = pd.DataFrame(school_summary_data, index = index, columns = columns)\n"
   ]
  },
  {
   "cell_type": "code",
   "execution_count": null,
   "metadata": {},
   "outputs": [],
   "source": [
    "per_school_summary['% Passing Maths'] = round(per_school_summary['% Passing Maths']*100, 2)\n",
    "per_school_summary['% Passing Reading'] = round(per_school_summary['% Passing Reading']*100, 2)\n",
    "per_school_summary['% Overall Passing'] = round(per_school_summary['% Overall Passing']*100, 2)\n",
    "per_school_summary[['Average Maths Score', 'Average Reading Score']] = round(per_school_summary[['Average Maths Score', 'Average Reading Score']], 2)"
   ]
  },
  {
   "cell_type": "code",
   "execution_count": null,
   "metadata": {},
   "outputs": [],
   "source": [
    "per_school_summary.sort_index()"
   ]
  },
  {
   "attachments": {},
   "cell_type": "markdown",
   "metadata": {},
   "source": [
    "## Highest Performing Schools (By % Overall Passing)"
   ]
  },
  {
   "cell_type": "code",
   "execution_count": null,
   "metadata": {
    "scrolled": true
   },
   "outputs": [],
   "source": [
    "top_schools = per_school_summary.sort_values('% Overall Passing', ascending = False).head(5)\n",
    "top_schools"
   ]
  },
  {
   "cell_type": "markdown",
   "metadata": {},
   "source": [
    "## Bottom Performing Schools (By % Overall Passing)"
   ]
  },
  {
   "cell_type": "code",
   "execution_count": null,
   "metadata": {},
   "outputs": [],
   "source": [
    "bottom_schools = per_school_summary.sort_values('% Overall Passing', ascending = True).head(5)\n",
    "bottom_schools"
   ]
  },
  {
   "cell_type": "markdown",
   "metadata": {
    "collapsed": true
   },
   "source": [
    "## Maths Scores by Year"
   ]
  },
  {
   "cell_type": "code",
   "execution_count": null,
   "metadata": {},
   "outputs": [],
   "source": [
    "grouped_school_year = school_data_complete.groupby(['year','school_name'])\n",
    "\n",
    "maths_averages = {}\n",
    "\n",
    "for name, group in grouped_school_year:\n",
    "    school_name, year = name\n",
    "    avg_score = group['maths_score'].mean()\n",
    "    if school_name not in maths_averages:\n",
    "        maths_averages[school_name] = {year: avg_score}\n",
    "    else:\n",
    "        maths_averages[school_name][year] = avg_score\n",
    "\n",
    "maths_scores_by_year = pd.DataFrame(maths_averages)\n",
    "maths_scores_by_year.rename(columns={'index': 'school_name'}, inplace=True)\n",
    "maths_scores_by_year.rename(columns=lambda x: f\"Year {x}\", inplace=True)\n",
    "maths_scores_by_year.round(2)"
   ]
  },
  {
   "cell_type": "markdown",
   "metadata": {},
   "source": [
    "## Reading scores by Year"
   ]
  },
  {
   "cell_type": "code",
   "execution_count": null,
   "metadata": {},
   "outputs": [],
   "source": [
    "reading_averages = {}\n",
    "\n",
    "for name, group in grouped_school_year:\n",
    "    school_name, year = name\n",
    "    avg_score = group['reading_score'].mean()\n",
    "    if school_name not in reading_averages:\n",
    "        reading_averages[school_name] = {year: avg_score}\n",
    "    else:\n",
    "        reading_averages[school_name][year] = avg_score\n",
    "\n",
    "reading_scores_by_year = pd.DataFrame(reading_averages)\n",
    "reading_scores_by_year.rename(columns={'index': 'school_name'}, inplace=True)\n",
    "reading_scores_by_year.rename(columns=lambda x: f\"Year {x}\", inplace=True)\n",
    "reading_scores_by_year.round(2)"
   ]
  },
  {
   "cell_type": "markdown",
   "metadata": {},
   "source": [
    "## Scores by School Spending"
   ]
  },
  {
   "cell_type": "code",
   "execution_count": null,
   "metadata": {},
   "outputs": [],
   "source": [
    "spending_bins = [0, 585, 630, 645, 680]\n",
    "spending_names = [\"<$585\", \"$585-630\", \"$630-645\", \"$645-680\"]"
   ]
  },
  {
   "cell_type": "code",
   "execution_count": null,
   "metadata": {},
   "outputs": [],
   "source": [
    "per_school_summary['Spending Range (per student)'] = pd.cut(per_school_summary['Per Student Budget'], bins = spending_bins, labels = spending_names, include_lowest = True)\n",
    "per_school_summary"
   ]
  },
  {
   "cell_type": "code",
   "execution_count": null,
   "metadata": {},
   "outputs": [],
   "source": [
    "grouped_summary_ranges = per_school_summary.groupby('Spending Range (per student)')\n",
    "mean_summary_ranges = grouped_summary_ranges.mean()\n",
    "mean_summary_ranges.round(2)"
   ]
  },
  {
   "cell_type": "code",
   "execution_count": null,
   "metadata": {},
   "outputs": [],
   "source": [
    "spending_summary = mean_summary_ranges.iloc[:, [3 , 4, 5, 6, 7]]\n",
    "spending_summary.round(2)"
   ]
  },
  {
   "cell_type": "markdown",
   "metadata": {},
   "source": [
    "## Scores by School Size"
   ]
  },
  {
   "cell_type": "code",
   "execution_count": null,
   "metadata": {},
   "outputs": [],
   "source": [
    "size_bins = [0, 1000, 2000, 5000]\n",
    "size_names = [\"Small (<1000)\", \"Medium (1000-2000)\", \"Large (2000-5000)\"]"
   ]
  },
  {
   "cell_type": "code",
   "execution_count": null,
   "metadata": {},
   "outputs": [],
   "source": [
    "per_school_summary['School Size'] = pd.cut(per_school_summary['Total Students'], bins = size_bins, labels = size_names, include_lowest = True)\n",
    "per_school_summary"
   ]
  },
  {
   "cell_type": "code",
   "execution_count": null,
   "metadata": {},
   "outputs": [],
   "source": [
    "grouped_summary_size = per_school_summary.groupby('School Size')\n",
    "size_summary = grouped_summary_size.mean()"
   ]
  },
  {
   "cell_type": "code",
   "execution_count": null,
   "metadata": {},
   "outputs": [],
   "source": [
    "size_summary = size_summary.iloc[:, [3 , 4, 5, 6, 7]].round(2)\n",
    "size_summary"
   ]
  },
  {
   "cell_type": "markdown",
   "metadata": {},
   "source": [
    "## Scores by School Type"
   ]
  },
  {
   "cell_type": "markdown",
   "metadata": {},
   "source": [
    "* Perform the same operations as above, based on school type"
   ]
  },
  {
   "cell_type": "code",
   "execution_count": null,
   "metadata": {},
   "outputs": [],
   "source": [
    "grouped_summary_type = per_school_summary.groupby('School Type')\n",
    "type_summary = grouped_summary_type.mean()\n",
    "type_summary = type_summary.iloc[:, [3 , 4, 5, 6, 7]].round(2)\n",
    "type_summary"
   ]
  }
 ],
 "metadata": {
  "anaconda-cloud": {},
  "kernel_info": {
   "name": "python3"
  },
  "kernelspec": {
   "display_name": "PythonData",
   "language": "python",
   "name": "python3"
  },
  "language_info": {
   "codemirror_mode": {
    "name": "ipython",
    "version": 3
   },
   "file_extension": ".py",
   "mimetype": "text/x-python",
   "name": "python",
   "nbconvert_exporter": "python",
   "pygments_lexer": "ipython3",
   "version": "3.7.7"
  },
  "latex_envs": {
   "LaTeX_envs_menu_present": true,
   "autoclose": false,
   "autocomplete": true,
   "bibliofile": "biblio.bib",
   "cite_by": "apalike",
   "current_citInitial": 1,
   "eqLabelWithNumbers": true,
   "eqNumInitial": 1,
   "hotkeys": {
    "equation": "Ctrl-E",
    "itemize": "Ctrl-I"
   },
   "labels_anchors": false,
   "latex_user_defs": false,
   "report_style_numbering": false,
   "user_envs_cfg": false
  },
  "nteract": {
   "version": "0.8.4"
  },
  "vscode": {
   "interpreter": {
    "hash": "be61ac5c64e7a5d72ecc0d496f873d7e4314011c9b355ed11f25404feed7befb"
   }
  }
 },
 "nbformat": 4,
 "nbformat_minor": 1
}
